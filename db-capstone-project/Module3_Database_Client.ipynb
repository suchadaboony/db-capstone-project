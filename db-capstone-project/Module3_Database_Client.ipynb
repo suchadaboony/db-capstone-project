{
 "cells": [
  {
   "cell_type": "markdown",
   "id": "b8f56cd6",
   "metadata": {},
   "source": [
    "### Setup the client project"
   ]
  },
  {
   "cell_type": "code",
   "execution_count": 3,
   "id": "82f1c588",
   "metadata": {},
   "outputs": [
    {
     "name": "stdout",
     "output_type": "stream",
     "text": [
      "Requirement already satisfied: mysql-connector-python in /Users/suchadaboonyarungsrit/anaconda3/lib/python3.11/site-packages (9.0.0)\r\n"
     ]
    }
   ],
   "source": [
    "!pip install mysql-connector-python"
   ]
  },
  {
   "cell_type": "code",
   "execution_count": 5,
   "id": "a45f16ec",
   "metadata": {},
   "outputs": [
    {
     "name": "stdout",
     "output_type": "stream",
     "text": [
      "Requirement already satisfied: pip in /Users/suchadaboonyarungsrit/anaconda3/lib/python3.11/site-packages (24.2)\r\n"
     ]
    }
   ],
   "source": [
    "!pip install --upgrade pip"
   ]
  },
  {
   "cell_type": "markdown",
   "id": "3922b56d",
   "metadata": {},
   "source": [
    "### Add query function\n",
    "#### Task 1: import connector module and connect to LittleLemonDB "
   ]
  },
  {
   "cell_type": "code",
   "execution_count": 6,
   "id": "593894db",
   "metadata": {},
   "outputs": [],
   "source": [
    "import mysql.connector as connector\n",
    "from mysql.connector import errorcode"
   ]
  },
  {
   "cell_type": "code",
   "execution_count": 7,
   "id": "647fe8ce",
   "metadata": {},
   "outputs": [],
   "source": [
    "try:\n",
    "    connection = connector.connect(user = \"capstone1\",\\\n",
    "                                   password =\"Password1234%,\",\\\n",
    "                                   database = \"LittleLemonDB\")\n",
    "except connector.Error as err:\n",
    "    if err.errno == errorcode.ER_ACCESS_DENINE_ERROR:\n",
    "        print(\"connection user or password are incorrect.\")\n",
    "    elif err.errno == errorcode.ER_BAD_DB_ERROR: \n",
    "        print(\"database does not exist.\")\n",
    "    else: \n",
    "        print(err)"
   ]
  },
  {
   "cell_type": "code",
   "execution_count": 8,
   "id": "5d8a4d15",
   "metadata": {},
   "outputs": [],
   "source": [
    "cursor = connection.cursor()"
   ]
  },
  {
   "cell_type": "markdown",
   "id": "3ea4eefb",
   "metadata": {},
   "source": [
    "#### Task 2: query the database to show all tables within the database"
   ]
  },
  {
   "cell_type": "code",
   "execution_count": 9,
   "id": "182b0b2e",
   "metadata": {},
   "outputs": [],
   "source": [
    "show_tables_query = \"SHOW tables\" \n",
    "cursor.execute(show_tables_query)"
   ]
  },
  {
   "cell_type": "code",
   "execution_count": 10,
   "id": "654b7f6c",
   "metadata": {},
   "outputs": [
    {
     "name": "stdout",
     "output_type": "stream",
     "text": [
      "[('Address',), ('Bookings',), ('Customers',), ('Employees',), ('MenuItems',), ('Menus',), ('OrderMenuItems',), ('Orders',), ('orderview',)]\n"
     ]
    }
   ],
   "source": [
    "results = cursor.fetchall()\n",
    "print(results)"
   ]
  },
  {
   "cell_type": "markdown",
   "id": "3489df7e",
   "metadata": {},
   "source": [
    "#### Task 3: Query with table JOIN"
   ]
  },
  {
   "cell_type": "code",
   "execution_count": 11,
   "id": "85c0cda6",
   "metadata": {},
   "outputs": [],
   "source": [
    "query_stmt = \"\"\"\n",
    "SELECT CONCAT(Customers.FirstName, \" \", Customers.LastName) AS \"Full Namme\", Customers.ContactNo AS \"Contact Details\"\n",
    "FROM LittleLemonDB.Orders \n",
    "INNER JOIN LittleLemonDB.Customers ON Orders.CustomerID = Customers.CustomerID \n",
    "WHERE Orders.TotalCost >= 60; \n",
    "\"\"\""
   ]
  },
  {
   "cell_type": "code",
   "execution_count": 12,
   "id": "03a62115",
   "metadata": {},
   "outputs": [],
   "source": [
    "cursor.execute(query_stmt)"
   ]
  },
  {
   "cell_type": "code",
   "execution_count": 13,
   "id": "646456a9",
   "metadata": {},
   "outputs": [],
   "source": [
    "results = cursor.fetchall()"
   ]
  },
  {
   "cell_type": "code",
   "execution_count": 14,
   "id": "c641942e",
   "metadata": {},
   "outputs": [
    {
     "name": "stdout",
     "output_type": "stream",
     "text": [
      "[('Tom Smith', 949333222), ('Rose Bloom', 696234122)]\n"
     ]
    }
   ],
   "source": [
    "print(results)"
   ]
  },
  {
   "cell_type": "code",
   "execution_count": 15,
   "id": "e4837928",
   "metadata": {},
   "outputs": [],
   "source": [
    "cols = cursor.column_names"
   ]
  },
  {
   "cell_type": "code",
   "execution_count": 16,
   "id": "270db140",
   "metadata": {},
   "outputs": [
    {
     "name": "stdout",
     "output_type": "stream",
     "text": [
      "('Full Namme', 'Contact Details')\n",
      "('Tom Smith', 949333222)\n",
      "('Rose Bloom', 696234122)\n"
     ]
    }
   ],
   "source": [
    "print(cols)\n",
    "for customer in results: \n",
    "    print(customer)"
   ]
  },
  {
   "cell_type": "code",
   "execution_count": 18,
   "id": "cb62ebdc",
   "metadata": {},
   "outputs": [
    {
     "name": "stdout",
     "output_type": "stream",
     "text": [
      "[(Decimal('3'),)]\n"
     ]
    }
   ],
   "source": [
    "# Call proc GetMaxQuantity() --take no parameter\n",
    "cursor.callproc('GetMaxQuantity')\n",
    "results = cursor.stored_results()\n",
    "for r in results:\n",
    "    print(r.fetchall())\n",
    "    "
   ]
  },
  {
   "cell_type": "code",
   "execution_count": 19,
   "id": "1937fa58",
   "metadata": {},
   "outputs": [
    {
     "name": "stdout",
     "output_type": "stream",
     "text": [
      "[('New BookingId: 99 is added for CustomerId: 99',)]\n"
     ]
    }
   ],
   "source": [
    "# AddBooking(BookingId, CustomerID, TableNo, BookingDate)\n",
    "args = (99,99,99,'2022-10-12')\n",
    "cursor.callproc('AddBooking',args)\n",
    "\n",
    "\n",
    "results = cursor.stored_results()\n",
    "for r in results:\n",
    "    print(r.fetchall())\n",
    "\n"
   ]
  },
  {
   "cell_type": "code",
   "execution_count": 21,
   "id": "68f06ab1",
   "metadata": {},
   "outputs": [
    {
     "name": "stdout",
     "output_type": "stream",
     "text": [
      "(99, 99, datetime.datetime(2022, 10, 12, 0, 0), 4, 99)\n"
     ]
    }
   ],
   "source": [
    "# query Booking tb to check if booking is added.\n",
    "cursor.execute('select * from Bookings where BookingId = 99')\n",
    "results = cursor.fetchall()\n",
    "for r in results: \n",
    "    print(r)"
   ]
  },
  {
   "cell_type": "code",
   "execution_count": 22,
   "id": "59320305",
   "metadata": {},
   "outputs": [
    {
     "name": "stdout",
     "output_type": "stream",
     "text": [
      "[('Booking 99 updated',)]\n"
     ]
    }
   ],
   "source": [
    "# UpdateBooking(BookingId, BookingDate)\n",
    "args = (99, '2022-10-13')\n",
    "cursor.callproc('UpdateBooking',args)\n",
    "\n",
    "results = cursor.stored_results()\n",
    "for r in results:\n",
    "    print(r.fetchall())"
   ]
  },
  {
   "cell_type": "code",
   "execution_count": 23,
   "id": "c31be6cb",
   "metadata": {},
   "outputs": [
    {
     "name": "stdout",
     "output_type": "stream",
     "text": [
      "(99, 99, datetime.datetime(2022, 10, 13, 0, 0), 4, 99)\n"
     ]
    }
   ],
   "source": [
    "# query Booking tb to check if booking is updated.\n",
    "cursor.execute('select * from Bookings where BookingID = 99')\n",
    "results = cursor.fetchall()\n",
    "for r in results: \n",
    "    print(r)"
   ]
  },
  {
   "cell_type": "code",
   "execution_count": 24,
   "id": "0f99abaf",
   "metadata": {},
   "outputs": [
    {
     "name": "stdout",
     "output_type": "stream",
     "text": [
      "[('Booking 99 is cancelled',)]\n"
     ]
    }
   ],
   "source": [
    "# CancelBooking(BookingID)\n",
    "\n",
    "args = (99, )\n",
    "cursor.callproc('CancelBooking',args)\n",
    "\n",
    "results = cursor.stored_results()\n",
    "for r in results:\n",
    "    print(r.fetchall())\n"
   ]
  },
  {
   "cell_type": "code",
   "execution_count": 25,
   "id": "dcafa8c5",
   "metadata": {},
   "outputs": [],
   "source": [
    "# query Booking tb to check if booking is cancelled.\n",
    "cursor.execute('select * from Bookings where BookingID = 99')\n",
    "results = cursor.fetchall()\n",
    "for r in results: \n",
    "    print(r)"
   ]
  },
  {
   "cell_type": "code",
   "execution_count": 26,
   "id": "0f55130e",
   "metadata": {},
   "outputs": [],
   "source": [
    "connection.close()"
   ]
  },
  {
   "cell_type": "code",
   "execution_count": null,
   "id": "a8fb56f9",
   "metadata": {},
   "outputs": [],
   "source": []
  }
 ],
 "metadata": {
  "kernelspec": {
   "display_name": "Python 3 (ipykernel)",
   "language": "python",
   "name": "python3"
  },
  "language_info": {
   "codemirror_mode": {
    "name": "ipython",
    "version": 3
   },
   "file_extension": ".py",
   "mimetype": "text/x-python",
   "name": "python",
   "nbconvert_exporter": "python",
   "pygments_lexer": "ipython3",
   "version": "3.11.5"
  }
 },
 "nbformat": 4,
 "nbformat_minor": 5
}
