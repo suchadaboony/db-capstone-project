{
 "cells": [
  {
   "cell_type": "markdown",
   "id": "b8f56cd6",
   "metadata": {},
   "source": [
    "### Setup the client project"
   ]
  },
  {
   "cell_type": "code",
   "execution_count": 1,
   "id": "82f1c588",
   "metadata": {},
   "outputs": [
    {
     "name": "stdout",
     "output_type": "stream",
     "text": [
      "Requirement already satisfied: mysql-connector-python in /Users/suchadaboonyarungsrit/anaconda3/lib/python3.11/site-packages (9.0.0)\n",
      "\n",
      "\u001b[1m[\u001b[0m\u001b[34;49mnotice\u001b[0m\u001b[1;39;49m]\u001b[0m\u001b[39;49m A new release of pip is available: \u001b[0m\u001b[31;49m23.3.1\u001b[0m\u001b[39;49m -> \u001b[0m\u001b[32;49m24.2\u001b[0m\n",
      "\u001b[1m[\u001b[0m\u001b[34;49mnotice\u001b[0m\u001b[1;39;49m]\u001b[0m\u001b[39;49m To update, run: \u001b[0m\u001b[32;49mpip install --upgrade pip\u001b[0m\n"
     ]
    }
   ],
   "source": [
    "!pip install mysql-connector-python"
   ]
  },
  {
   "cell_type": "code",
   "execution_count": 2,
   "id": "a45f16ec",
   "metadata": {},
   "outputs": [
    {
     "name": "stdout",
     "output_type": "stream",
     "text": [
      "Requirement already satisfied: pip in /Users/suchadaboonyarungsrit/anaconda3/lib/python3.11/site-packages (23.3.1)\n",
      "Collecting pip\n",
      "  Using cached pip-24.2-py3-none-any.whl.metadata (3.6 kB)\n",
      "Using cached pip-24.2-py3-none-any.whl (1.8 MB)\n",
      "Installing collected packages: pip\n",
      "  Attempting uninstall: pip\n",
      "    Found existing installation: pip 23.3.1\n",
      "    Uninstalling pip-23.3.1:\n",
      "      Successfully uninstalled pip-23.3.1\n",
      "Successfully installed pip-24.2\n"
     ]
    }
   ],
   "source": [
    "!pip install --upgrade pip"
   ]
  },
  {
   "cell_type": "markdown",
   "id": "3922b56d",
   "metadata": {},
   "source": [
    "### Add query function\n",
    "#### Task 1: import connector module and connect to LittleLemonDB "
   ]
  },
  {
   "cell_type": "code",
   "execution_count": 3,
   "id": "593894db",
   "metadata": {},
   "outputs": [],
   "source": [
    "import mysql.connector as connector\n",
    "from mysql.connector import errorcode"
   ]
  },
  {
   "cell_type": "code",
   "execution_count": 11,
   "id": "647fe8ce",
   "metadata": {},
   "outputs": [],
   "source": [
    "try:\n",
    "    connection = connector.connect(user = \"capstone1\",\\\n",
    "                                   password =\"Password1234%,\",\\\n",
    "                                   database = \"LittleLemonDB\")\n",
    "except connector.Error as err:\n",
    "    if err.errno == errorcode.ER_ACCESS_DENINE_ERROR:\n",
    "        print(\"connection user or password are incorrect.\")\n",
    "    elif err.errno == errorcode.ER_BAD_DB_ERROR: \n",
    "        print(\"database does not exist.\")\n",
    "    else: \n",
    "        print(err)"
   ]
  },
  {
   "cell_type": "code",
   "execution_count": 12,
   "id": "5d8a4d15",
   "metadata": {},
   "outputs": [],
   "source": [
    "cursor = connection.cursor()"
   ]
  },
  {
   "cell_type": "markdown",
   "id": "3ea4eefb",
   "metadata": {},
   "source": [
    "#### Task 2: query the database to show all tables within the database"
   ]
  },
  {
   "cell_type": "code",
   "execution_count": 21,
   "id": "182b0b2e",
   "metadata": {},
   "outputs": [],
   "source": [
    "show_tables_query = \"SHOW tables\" \n",
    "cursor.execute(show_tables_query)"
   ]
  },
  {
   "cell_type": "code",
   "execution_count": 22,
   "id": "654b7f6c",
   "metadata": {},
   "outputs": [
    {
     "name": "stdout",
     "output_type": "stream",
     "text": [
      "[('Address',), ('Bookings',), ('Customers',), ('Employees',), ('MenuItems',), ('Menus',), ('OrderMenuItems',), ('Orders',), ('orderview',)]\n"
     ]
    }
   ],
   "source": [
    "results = cursor.fetchall()\n",
    "print(results)"
   ]
  },
  {
   "cell_type": "markdown",
   "id": "3489df7e",
   "metadata": {},
   "source": [
    "#### Task 3: Query with table JOIN"
   ]
  },
  {
   "cell_type": "code",
   "execution_count": 28,
   "id": "85c0cda6",
   "metadata": {},
   "outputs": [],
   "source": [
    "query_stmt = \"\"\"\n",
    "SELECT CONCAT(Customers.FirstName, \" \", Customers.LastName) AS \"Full Namme\", Customers.ContactNo AS \"Contact Details\"\n",
    "FROM LittleLemonDB.Orders \n",
    "INNER JOIN LittleLemonDB.Customers ON Orders.CustomerID = Customers.CustomerID \n",
    "WHERE Orders.TotalCost >= 60; \n",
    "\"\"\""
   ]
  },
  {
   "cell_type": "code",
   "execution_count": 29,
   "id": "03a62115",
   "metadata": {},
   "outputs": [],
   "source": [
    "cursor.execute(query_stmt)"
   ]
  },
  {
   "cell_type": "code",
   "execution_count": 30,
   "id": "646456a9",
   "metadata": {},
   "outputs": [],
   "source": [
    "results = cursor.fetchall()"
   ]
  },
  {
   "cell_type": "code",
   "execution_count": 31,
   "id": "c641942e",
   "metadata": {},
   "outputs": [
    {
     "name": "stdout",
     "output_type": "stream",
     "text": [
      "[('Tom Smith', 949333222), ('Rose Bloom', 696234122)]\n"
     ]
    }
   ],
   "source": [
    "print(results)"
   ]
  },
  {
   "cell_type": "code",
   "execution_count": 33,
   "id": "e4837928",
   "metadata": {},
   "outputs": [],
   "source": [
    "cols = cursor.column_names"
   ]
  },
  {
   "cell_type": "code",
   "execution_count": 35,
   "id": "270db140",
   "metadata": {},
   "outputs": [
    {
     "name": "stdout",
     "output_type": "stream",
     "text": [
      "('Full Namme', 'Contact Details')\n",
      "('Tom Smith', 949333222)\n",
      "('Rose Bloom', 696234122)\n"
     ]
    }
   ],
   "source": [
    "print(cols)\n",
    "for customer in results: \n",
    "    print(customer)"
   ]
  },
  {
   "cell_type": "code",
   "execution_count": null,
   "id": "0f55130e",
   "metadata": {},
   "outputs": [],
   "source": []
  }
 ],
 "metadata": {
  "kernelspec": {
   "display_name": "Python 3 (ipykernel)",
   "language": "python",
   "name": "python3"
  },
  "language_info": {
   "codemirror_mode": {
    "name": "ipython",
    "version": 3
   },
   "file_extension": ".py",
   "mimetype": "text/x-python",
   "name": "python",
   "nbconvert_exporter": "python",
   "pygments_lexer": "ipython3",
   "version": "3.11.5"
  }
 },
 "nbformat": 4,
 "nbformat_minor": 5
}
